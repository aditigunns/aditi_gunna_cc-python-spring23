{
 "cells": [
  {
   "cell_type": "code",
   "execution_count": 3,
   "id": "b9f48393",
   "metadata": {},
   "outputs": [
    {
     "name": "stdout",
     "output_type": "stream",
     "text": [
      "condition not met\n"
     ]
    }
   ],
   "source": [
    "x = False\n",
    "if x:\n",
    "    print('condition met')\n",
    "else:\n",
    "    print('condition not met')"
   ]
  },
  {
   "cell_type": "code",
   "execution_count": 8,
   "id": "11c3b401",
   "metadata": {},
   "outputs": [
    {
     "name": "stdout",
     "output_type": "stream",
     "text": [
      "1 condition not met\n",
      "2 condition met\n"
     ]
    }
   ],
   "source": [
    "f = False\n",
    "t = True\n",
    "\n",
    "\n",
    "if t and f:\n",
    "    print('1 condition met')\n",
    "else:\n",
    "    print('1 condition not met')\n",
    "    \n",
    "if t or f:\n",
    "    print('2 condition met')\n",
    "else:\n",
    "    print('2 condition not met')"
   ]
  },
  {
   "cell_type": "code",
   "execution_count": 11,
   "id": "a807b234",
   "metadata": {},
   "outputs": [
    {
     "name": "stdout",
     "output_type": "stream",
     "text": [
      "a is greater than 5\n"
     ]
    }
   ],
   "source": [
    "a = 7\n",
    "\n",
    "if (a > 10):\n",
    "    print('a is greater than 10')\n",
    "elif (a > 5):\n",
    "    print('a is greater than 5')\n",
    "else: \n",
    "    print('a is not greater than 5')"
   ]
  },
  {
   "cell_type": "code",
   "execution_count": 15,
   "id": "ec889cef",
   "metadata": {},
   "outputs": [
    {
     "name": "stdout",
     "output_type": "stream",
     "text": [
      "a is in b\n"
     ]
    }
   ],
   "source": [
    "b = [1,2,3]\n",
    "\n",
    "a = 1\n",
    "\n",
    "if (a in b):\n",
    "    print('a is in b')\n",
    "else:\n",
    "    print('a is not in b')"
   ]
  },
  {
   "cell_type": "code",
   "execution_count": 18,
   "id": "0c55d375",
   "metadata": {},
   "outputs": [
    {
     "name": "stdout",
     "output_type": "stream",
     "text": [
      "one\n",
      "two\n",
      "three\n"
     ]
    }
   ],
   "source": [
    "k = 'one'\n",
    "lst = ['one', 'two', 'three']\n",
    "for k in lst:\n",
    "    print(k)\n",
    "\n",
    "#the for loop goes through the list lst assigning k each value in lst and then goes into the loop. It doesn't return \n",
    "#a boolean value like in javascript"
   ]
  },
  {
   "cell_type": "code",
   "execution_count": 19,
   "id": "c04c26dd",
   "metadata": {},
   "outputs": [
    {
     "name": "stdout",
     "output_type": "stream",
     "text": [
      "1\n",
      "3\n",
      "5\n"
     ]
    }
   ],
   "source": [
    "#tuple unpacking \n",
    "tuplelist =[(1,2), (3,4), (5,6)]\n",
    "for x in tuplelist:\n",
    "    print(x[0])"
   ]
  },
  {
   "cell_type": "code",
   "execution_count": 20,
   "id": "8566796c",
   "metadata": {},
   "outputs": [
    {
     "name": "stdout",
     "output_type": "stream",
     "text": [
      "2\n",
      "4\n",
      "6\n"
     ]
    }
   ],
   "source": [
    "for (x,y) in tuplelist:\n",
    "    print(y)"
   ]
  },
  {
   "cell_type": "code",
   "execution_count": 21,
   "id": "cc8bd6e6",
   "metadata": {},
   "outputs": [
    {
     "name": "stdout",
     "output_type": "stream",
     "text": [
      "2\n",
      "4\n",
      "6\n"
     ]
    }
   ],
   "source": [
    "for x,y in tuplelist:\n",
    "    print(y)"
   ]
  },
  {
   "cell_type": "code",
   "execution_count": 12,
   "id": "95e1b37e",
   "metadata": {},
   "outputs": [
    {
     "name": "stdout",
     "output_type": "stream",
     "text": [
      "1\n",
      "2\n",
      "3\n"
     ]
    }
   ],
   "source": [
    "dic = {1:'a', 2: 'b', 3: 'c'}\n",
    "for i in dic:\n",
    "    print(i)"
   ]
  },
  {
   "cell_type": "code",
   "execution_count": 15,
   "id": "27935565",
   "metadata": {},
   "outputs": [
    {
     "name": "stdout",
     "output_type": "stream",
     "text": [
      "1\n",
      "2\n",
      "3\n"
     ]
    }
   ],
   "source": [
    "for i in dic.items():\n",
    "    print(i[0])"
   ]
  },
  {
   "cell_type": "code",
   "execution_count": 27,
   "id": "901093e8",
   "metadata": {
    "scrolled": true
   },
   "outputs": [
    {
     "name": "stdout",
     "output_type": "stream",
     "text": [
      "1\n",
      "2\n",
      "3\n"
     ]
    }
   ],
   "source": [
    "for k,v in dic.items():\n",
    "    print(k)\n",
    "\n",
    "    #order in for loop with a dictionary which doesn't have indices"
   ]
  },
  {
   "cell_type": "code",
   "execution_count": null,
   "id": "c842c24e",
   "metadata": {},
   "outputs": [],
   "source": []
  },
  {
   "cell_type": "code",
   "execution_count": null,
   "id": "5d1d01a0",
   "metadata": {},
   "outputs": [],
   "source": []
  },
  {
   "cell_type": "code",
   "execution_count": null,
   "id": "badd9596",
   "metadata": {},
   "outputs": [],
   "source": []
  },
  {
   "cell_type": "code",
   "execution_count": 33,
   "id": "f59f3ae8",
   "metadata": {},
   "outputs": [],
   "source": [
    "#list comprehension"
   ]
  },
  {
   "cell_type": "code",
   "execution_count": 28,
   "id": "6e98c139",
   "metadata": {},
   "outputs": [
    {
     "name": "stdout",
     "output_type": "stream",
     "text": [
      "range(0, 10)\n"
     ]
    }
   ],
   "source": [
    "#list comprehension: range is not inclusive of the higher value??? -> not included\n",
    "#does the range give back values or indices?? -> values\n",
    "\n",
    "print(range(10))"
   ]
  },
  {
   "cell_type": "code",
   "execution_count": 29,
   "id": "83a64ad7",
   "metadata": {},
   "outputs": [
    {
     "name": "stdout",
     "output_type": "stream",
     "text": [
      "3\n",
      "4\n",
      "5\n"
     ]
    }
   ],
   "source": [
    "x = range(3, 6)\n",
    "for n in x:\n",
    "  print(n)"
   ]
  },
  {
   "cell_type": "code",
   "execution_count": 32,
   "id": "0759c794",
   "metadata": {},
   "outputs": [
    {
     "name": "stdout",
     "output_type": "stream",
     "text": [
      "3\n",
      "5\n",
      "7\n",
      "9\n"
     ]
    }
   ],
   "source": [
    "x = range(3, 10, 2)\n",
    "for n in x:\n",
    "  print(n)"
   ]
  },
  {
   "cell_type": "code",
   "execution_count": 34,
   "id": "e2cc2429",
   "metadata": {},
   "outputs": [],
   "source": [
    "#built-in function vs method; is method only when calling a property of an 'obeject'/variable?"
   ]
  },
  {
   "cell_type": "code",
   "execution_count": null,
   "id": "0f2439f3",
   "metadata": {},
   "outputs": [],
   "source": [
    "#how does scope between cells? Functions and variable; if you don't run a cell can the program still know the value\n",
    "#or definition or whatever in the previous code? \n",
    "#[26] in demo file: what if you have a global and local variable with the same name, and you call the variable within\n",
    "#the local scope? Does it use the local variable or the global variable?"
   ]
  },
  {
   "cell_type": "code",
   "execution_count": null,
   "id": "9523bc51",
   "metadata": {},
   "outputs": [],
   "source": [
    "#map(x,y) runs the function x for all the values of y; where y is a list/array???"
   ]
  },
  {
   "cell_type": "code",
   "execution_count": null,
   "id": "4a7b1171",
   "metadata": {},
   "outputs": [],
   "source": [
    "#help(name_of_function) returns the doc string for the text\n",
    "#what is a docstring??\n",
    "#order of reading code, running code? Can you call a function before it is defined?\n",
    "#can you just name a function but define it at a later point?"
   ]
  },
  {
   "cell_type": "code",
   "execution_count": 6,
   "id": "003706a3",
   "metadata": {},
   "outputs": [
    {
     "name": "stdout",
     "output_type": "stream",
     "text": [
      "3 is before 1 and 2\n"
     ]
    }
   ],
   "source": [
    "def add(a, b, c):\n",
    "    print(f'{a} is before {b} and {c}')\n",
    "\n",
    "add(3,c = 2, b =1)"
   ]
  },
  {
   "cell_type": "code",
   "execution_count": 8,
   "id": "09827a43",
   "metadata": {},
   "outputs": [
    {
     "ename": "SyntaxError",
     "evalue": "invalid syntax (1110457530.py, line 1)",
     "output_type": "error",
     "traceback": [
      "\u001b[0;36m  File \u001b[0;32m\"/var/folders/wm/gbk56r0x7fdc0510l_yx9wy00000gn/T/ipykernel_52737/1110457530.py\"\u001b[0;36m, line \u001b[0;32m1\u001b[0m\n\u001b[0;31m    def add(**a, b, c):\u001b[0m\n\u001b[0m                 ^\u001b[0m\n\u001b[0;31mSyntaxError\u001b[0m\u001b[0;31m:\u001b[0m invalid syntax\n"
     ]
    }
   ],
   "source": [
    "def add(**a, b, c):\n",
    "    print(f'{a} is before {b} and {c}')\n",
    "\n",
    "add(3,2,1)"
   ]
  },
  {
   "cell_type": "code",
   "execution_count": 17,
   "id": "ccd52681",
   "metadata": {},
   "outputs": [
    {
     "name": "stdout",
     "output_type": "stream",
     "text": [
      "True\n"
     ]
    }
   ],
   "source": [
    "a, b = 12, 5\n",
    "if 10:\n",
    "    print('True')\n",
    "else:\n",
    "    print('False')"
   ]
  },
  {
   "cell_type": "code",
   "execution_count": 1,
   "id": "316cc74b",
   "metadata": {},
   "outputs": [
    {
     "data": {
      "text/plain": [
       "3"
      ]
     },
     "execution_count": 1,
     "metadata": {},
     "output_type": "execute_result"
    }
   ],
   "source": [
    "23%10"
   ]
  },
  {
   "cell_type": "code",
   "execution_count": 2,
   "id": "bcdb0029",
   "metadata": {},
   "outputs": [
    {
     "data": {
      "text/plain": [
       "2.3"
      ]
     },
     "execution_count": 2,
     "metadata": {},
     "output_type": "execute_result"
    }
   ],
   "source": [
    "23/10"
   ]
  },
  {
   "cell_type": "code",
   "execution_count": 10,
   "id": "2849e139",
   "metadata": {},
   "outputs": [
    {
     "name": "stdout",
     "output_type": "stream",
     "text": [
      "24\n",
      "9\n"
     ]
    }
   ],
   "source": [
    "a=90232323\n",
    "b=0\n",
    "while (a>10):\n",
    "    b+= a%10\n",
    "    a=int(a/10)\n",
    "    if(a<10):\n",
    "        b+=a\n",
    "\n",
    "print(b)\n",
    "print(a)"
   ]
  },
  {
   "cell_type": "code",
   "execution_count": null,
   "id": "1e083a13",
   "metadata": {},
   "outputs": [],
   "source": []
  }
 ],
 "metadata": {
  "kernelspec": {
   "display_name": "Python 3 (ipykernel)",
   "language": "python",
   "name": "python3"
  },
  "language_info": {
   "codemirror_mode": {
    "name": "ipython",
    "version": 3
   },
   "file_extension": ".py",
   "mimetype": "text/x-python",
   "name": "python",
   "nbconvert_exporter": "python",
   "pygments_lexer": "ipython3",
   "version": "3.9.13"
  }
 },
 "nbformat": 4,
 "nbformat_minor": 5
}
