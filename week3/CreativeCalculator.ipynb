{
 "cells": [
  {
   "cell_type": "code",
   "execution_count": 4,
   "metadata": {},
   "outputs": [
    {
     "name": "stdout",
     "output_type": "stream",
     "text": [
      "apple\n",
      "bananas\n",
      "cantelopes\n",
      "dates\n",
      "figs\n",
      "grapes\n",
      "tangerines\n",
      "watermelon\n",
      "avocado\n",
      "strawberries\n"
     ]
    }
   ],
   "source": [
    "# 1) Iterate through list and print the key \n",
    "\n",
    "fruit_basket = {'apple': 1, 'bananas': 2, 'cantelopes': 3, 'dates': 4, 'figs': 5, 'grapes': 6, 'tangerines': 7, 'watermelon': 8, 'avocado': 9, 'strawberries': 10}\n",
    "for k in fruit_basket:\n",
    "    print(k)"
   ]
  },
  {
   "cell_type": "code",
   "execution_count": 5,
   "metadata": {},
   "outputs": [
    {
     "name": "stdout",
     "output_type": "stream",
     "text": [
      "1\n",
      "2\n",
      "3\n",
      "4\n",
      "5\n",
      "6\n",
      "7\n",
      "8\n",
      "9\n",
      "10\n"
     ]
    }
   ],
   "source": [
    "# 2) Iterate through list and print the value \n",
    "fruit_basket = {'apple': 1, 'bananas': 2, 'cantelopes': 3, 'dates': 4, 'figs': 5, 'grapes': 6, 'tangerines': 7, 'watermelon': 8, 'avocado': 9, 'strawberries': 10}\n",
    "for k,v in fruit_basket.items():\n",
    "    print(v)"
   ]
  },
  {
   "cell_type": "code",
   "execution_count": 7,
   "metadata": {},
   "outputs": [
    {
     "name": "stdout",
     "output_type": "stream",
     "text": [
      "55\n"
     ]
    }
   ],
   "source": [
    "# 3) Find sum of all the fruit \n",
    "fruit_basket = {'apple': 1, 'bananas': 2, 'cantelopes': 3, 'dates': 4, 'figs': 5, 'grapes': 6, 'tangerines': 7, 'watermelon': 8, 'avocado': 9, 'strawberries': 10}\n",
    "a=0\n",
    "for k,v in fruit_basket.items():\n",
    "    a += v\n",
    "print(a)"
   ]
  },
  {
   "cell_type": "code",
   "execution_count": null,
   "metadata": {},
   "outputs": [],
   "source": [
    "# 4) What is the output of the add() function call and why? \n",
    "\n",
    "\n",
    "# def add(a, b):\n",
    "#     return a+5, b+5\n",
    "\n",
    "# result = add(3, 2)\n",
    "# print(result)\n",
    "\n",
    "\n",
    "# a) 15\n",
    "# b) 8\n",
    "# c) (8, 7)\n",
    "# d) Syntax Error\n",
    "\n",
    "c) (8,7) "
   ]
  },
  {
   "cell_type": "code",
   "execution_count": null,
   "metadata": {},
   "outputs": [],
   "source": [
    "# 5) Select the statements that are true: \n",
    "\n",
    "\n",
    "# a) A Python function can return only a single value\n",
    "# b) A function can take an unlimited number of arguments.\n",
    "# c) A Python function can return multiple values\n",
    "# d) Python function doesn’t return anything unless and until you add a return statement\n",
    "\n",
    "#(b) and (c)"
   ]
  },
  {
   "cell_type": "code",
   "execution_count": null,
   "metadata": {},
   "outputs": [],
   "source": [
    "# 6)Python function always returns a value\n",
    "\n",
    "# True or False and why? \n",
    "\n",
    "#True. If there is no return statement, python will automatically return the value 'None'"
   ]
  },
  {
   "cell_type": "code",
   "execution_count": null,
   "metadata": {},
   "outputs": [],
   "source": [
    "# 7) Given the nested if-else structure below, what will be the value of x after code execution completes\n",
    "\n",
    "# x = 0\n",
    "# a = 0\n",
    "# b = -5\n",
    "# if a > 0:\n",
    "#     if b < 0: \n",
    "#         x = x + 5 \n",
    "#     elif a > 5:\n",
    "#         x = x + 4\n",
    "#     else:\n",
    "#         x = x + 3\n",
    "# else:\n",
    "#     x = x + 2\n",
    "# print(x)\n",
    "\n",
    "#x =2"
   ]
  },
  {
   "cell_type": "code",
   "execution_count": null,
   "metadata": {},
   "outputs": [],
   "source": [
    "# 8) What is the output of the following if statement and why? \n",
    "\n",
    "\n",
    "# a, b = 12, 5\n",
    "# if a + b:\n",
    "#     print('True')\n",
    "# else:\n",
    "#   print('False')\n",
    "\n",
    "#True; Any non-zero value yields a true result for the condition. "
   ]
  },
  {
   "cell_type": "markdown",
   "metadata": {},
   "source": [
    "9) A calculator is defined as the following: \n",
    "\n",
    "\"something used for making mathematical calculations, in particular a small electronic device with a keyboard and a visual display.\" \n",
    "\n",
    "\n",
    "Create a creative calculator of your choice where _something_ is being calculated (it must perform some sort of operation). Feel free to get creative with it. Your calculator can be also be literal. Your calculator calculator must include the following: \n",
    "\n",
    "* an input box \n",
    "* a function \n",
    "\n",
    "Some examples of things to calculate: \n",
    "\n",
    "* adding strings \n",
    "* create your own version of verbal arithmetic (https://en.wikipedia.org/wiki/Verbal_arithmetic) \n",
    "* how many times \"I\" is mentioned in a paragraph \n",
    "* add more operations to the calculator like REMAINDER (%) or POWER (**) \n",
    "\n",
    "Refer to the sample code below to get started. \n"
   ]
  },
  {
   "cell_type": "code",
   "execution_count": 2,
   "metadata": {},
   "outputs": [],
   "source": [
    "def calculator():\n",
    "\n",
    "    operation = input(''' \n",
    "Please type in the math operation you would like to complete:\n",
    "+ for addition\n",
    "- for subtraction\n",
    "* for multiplication\n",
    "/ for division\n",
    "''') # Triple-quotes allow the string to span multiple lines\n",
    "    \n",
    "    # Prompt the user to input two numbers\n",
    "    # The int() function converts the string that comes in from the input() function to an integer\n",
    "    number_1 = int(input('Please enter the first number: '))\n",
    "    number_2 = int(input('Please enter the second number: '))\n",
    "\n",
    "    # Conditional statement:\n",
    "    # If the user entered '+', perform an addition\n",
    "    if operation == '+':\n",
    "        print(number_1, '+', number_2, '=')\n",
    "        print(number_1 + number_2)\n",
    "\n",
    "    # Else if the user entered '-', perform a substraction\n",
    "    elif operation == '-':\n",
    "        print(number_1, '-', number_2, '=')\n",
    "        print(number_1 - number_2)\n",
    "\n",
    "    # Else if the user entered '*', perform a multiplication\n",
    "    elif operation == '*':\n",
    "        print(number_1, '*', number_2, '=')\n",
    "        print(number_1 * number_2)\n",
    "\n",
    "    # Else if the user entered '/', perform a division\n",
    "    elif operation == '/':\n",
    "        print(number_1, '/', number_2, '=')\n",
    "        print(number_1 / number_2)\n",
    "    \n",
    "    # Else notify the user that they have not put in a valid operator (in place to handle error-message)\n",
    "    else:\n",
    "        print('You have not entered a valid operator')\n",
    "        "
   ]
  },
  {
   "cell_type": "code",
   "execution_count": 4,
   "metadata": {},
   "outputs": [
    {
     "name": "stdout",
     "output_type": "stream",
     "text": [
      " \n",
      "Please type in the math operation you would like to complete:\n",
      "+ for addition\n",
      "- for subtraction\n",
      "* for multiplication\n",
      "/ for division\n",
      "+\n",
      "Please enter the first number: 2\n",
      "Please enter the second number: 3\n",
      "2 + 3 =\n",
      "5\n"
     ]
    }
   ],
   "source": [
    "calculator()"
   ]
  },
  {
   "cell_type": "code",
   "execution_count": 50,
   "metadata": {},
   "outputs": [],
   "source": [
    "#the index assigns a numeric value between 0 and 9 to each letter, in both cases\n",
    "index = [('A','a',1), ('B','b',2), ('C','c',3), ('D','d',4), ('E','e',5), ('F','f',6), ('G','g',7), ('H','h',8), ('I','i',9), ('J','j',0), ('K','k',1), ('L','l',2), ('M','m',3), ('N','n',4), ('O','o',5), ('P','p',6), ('Q','q',7), ('R','r',8), ('S','s',9), ('T','t',0), ('U','u',1), ('V','v',2), ('W','w',3), ('X','x',4), ('Y','y',5), ('Z','z',6)]\n",
    "\n",
    "def add_digits(num):\n",
    "    '''This function takes in a number and returns the sum of each of it's digits.\n",
    "    '''\n",
    "    val = 0\n",
    "    n = num\n",
    "    while (n > 10):\n",
    "        val += n % 10\n",
    "        n = int(n / 10)\n",
    "        if(n < 10):\n",
    "            val += n\n",
    "    \n",
    "    return val\n",
    "\n",
    "def add_letters(name):\n",
    "    '''This function takes in a string, cross references each letter to the index and calculates the total \n",
    "    numeric value of the string, and returns this total sum.\n",
    "    '''\n",
    "    val = 0;\n",
    "    for x in name:\n",
    "        for s in index:\n",
    "            if(x == s[0] or x == s[1]):\n",
    "                val += s[2]\n",
    "    \n",
    "    return val"
   ]
  },
  {
   "cell_type": "code",
   "execution_count": 51,
   "metadata": {},
   "outputs": [],
   "source": [
    "def love_calculator():\n",
    "    print('''\n",
    "    Welcome to the LOVE PERCENTAGE CALCULATOR!\n",
    "\n",
    "    Beware: This is not an accurate or scientific method to understand a relationship. Please do not make life \n",
    "    decisions based on the results of this calculator.\n",
    "    ''')\n",
    "\n",
    "    name_1 = input('Please enter the first name: ')\n",
    "    name_2 = input('Please enter the second name: ')\n",
    "\n",
    "    operation = int(input(''' \n",
    "    Please enter the number that best describes your relationship:\n",
    "    1 for friends\n",
    "    2 for family\n",
    "    3 for enemies\n",
    "    4 for lovers\n",
    "    '''))\n",
    "    \n",
    "    total_1 = add_letters(name_1)\n",
    "    total_2 = add_letters(name_2)\n",
    "    \n",
    "    a = add_digits(total_1)\n",
    "    b = add_digits(total_2)\n",
    "    \n",
    "    #the final love percentage formula = (a/y)*100, where y is the result of an operation between a and b\n",
    "    \n",
    "    if operation == 1:\n",
    "        #with friendship, y is the sum of a and b; the final percentage is dependent on the values of a and b\n",
    "        y = a + b\n",
    "\n",
    "    elif operation == 2:\n",
    "        #with family, y is the difference between a and b; ideally, the percentage should be high => y must be a smaller number\n",
    "        y = a - b\n",
    "        \n",
    "        #if y is less than a then the percentage would exceed 100; y being a+1 leads to a high love percentage\n",
    "        if (y < a):\n",
    "            y = a + 1\n",
    "\n",
    "    elif operation == 3:\n",
    "        #with emenies, y is the product of a and b; the percentage should be low => y must be a higher number\n",
    "        y = a * b\n",
    "\n",
    "    elif operation == 4:\n",
    "        #with lovers, y is the quotient of a divided by b; ideally, the percentage should be high => y must be a smaller number\n",
    "        y = a / b\n",
    "        \n",
    "        #if y is less than a then the percentage would exceed 100; y being a+1 leads to a high love percentage\n",
    "        if (y < a):\n",
    "            y = a + 1\n",
    "    \n",
    "    else:\n",
    "        print('You have not entered a valid number')\n",
    "        \n",
    "    print(f'The love percentage between {name_1} and {name_2} is {((a/y)*100)} %')"
   ]
  },
  {
   "cell_type": "code",
   "execution_count": 52,
   "metadata": {},
   "outputs": [
    {
     "name": "stdout",
     "output_type": "stream",
     "text": [
      "\n",
      "    Welcome to the LOVE PERCENTAGE CALCULATOR!\n",
      "\n",
      "    Beware: This is not an accurate or scientific method to understand a relationship. Please do not make life \n",
      "    decisions based on the results of this calculator.\n",
      "    \n",
      "Please enter the first name: Samuel\n",
      "Please enter the second name: Jackson\n",
      " \n",
      "    Please enter the number that best describes your relationship:\n",
      "    1 for friends\n",
      "    2 for family\n",
      "    3 for enemies\n",
      "    4 for lovers\n",
      "    1\n",
      "The love percentage between Samuel and Jackson is 37.5 %\n"
     ]
    }
   ],
   "source": [
    "love_calculator()"
   ]
  },
  {
   "cell_type": "code",
   "execution_count": null,
   "metadata": {},
   "outputs": [],
   "source": []
  },
  {
   "cell_type": "code",
   "execution_count": null,
   "metadata": {},
   "outputs": [],
   "source": []
  }
 ],
 "metadata": {
  "kernelspec": {
   "display_name": "Python 3 (ipykernel)",
   "language": "python",
   "name": "python3"
  },
  "language_info": {
   "codemirror_mode": {
    "name": "ipython",
    "version": 3
   },
   "file_extension": ".py",
   "mimetype": "text/x-python",
   "name": "python",
   "nbconvert_exporter": "python",
   "pygments_lexer": "ipython3",
   "version": "3.9.13"
  }
 },
 "nbformat": 4,
 "nbformat_minor": 2
}
