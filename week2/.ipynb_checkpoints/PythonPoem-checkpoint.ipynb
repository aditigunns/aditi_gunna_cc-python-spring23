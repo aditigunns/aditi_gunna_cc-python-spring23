{
 "cells": [
  {
   "cell_type": "code",
   "execution_count": null,
   "metadata": {},
   "outputs": [],
   "source": [
    "# 1) What is the output of the following code and why? \n",
    "\n",
    "# var1 = 1\n",
    "# var2 = 2\n",
    "# var3 = \"3\"\n",
    "\n",
    "# print(var1 + var2 + var3)\n",
    "\n",
    "# a) 6 \n",
    "# b) 33 \n",
    "# c) 3 + 3 \n",
    "# d) Error \n",
    "\n",
    "##(d) Error; var3 is a string and it is not possible to add an interger to a string "
   ]
  },
  {
   "cell_type": "code",
   "execution_count": null,
   "metadata": {},
   "outputs": [],
   "source": [
    "# 2) What is the output of the following code? \n",
    "\n",
    "# str = \"pynative\"\n",
    "\n",
    "# print (str[1:3])\n",
    "\n",
    "# a) py\n",
    "# b) yn\n",
    "# c) pyn\n",
    "# d) yna\n",
    "\n",
    "## (d) yna"
   ]
  },
  {
   "cell_type": "code",
   "execution_count": null,
   "metadata": {},
   "outputs": [],
   "source": [
    "# 3) What is the output of the following code? \n",
    "\n",
    "# var= \"James Bond\"\n",
    "# print(var[2::-1])\n",
    "\n",
    "# a) Jam\n",
    "# b) dno\n",
    "# c) maJ\n",
    "# d) dnoB semaJ\n",
    "\n",
    "## (c) maJ; from the var[2] or the third item, go one space back (till the end?)"
   ]
  },
  {
   "cell_type": "code",
   "execution_count": null,
   "metadata": {},
   "outputs": [],
   "source": [
    "# 4) What is the output of the following code? \n",
    "\n",
    "# var = \"James\" * 2  * 3\n",
    "# print(var)\n",
    "\n",
    "# a) JamesJamesJamesJamesJamesJames\n",
    "# b) JamesJamesJamesJamesJames\n",
    "# c) Error: invalid syntax\n",
    "\n",
    "# (a)JamesJamesJamesJamesJamesJames"
   ]
  },
  {
   "cell_type": "code",
   "execution_count": 1,
   "metadata": {},
   "outputs": [
    {
     "name": "stdout",
     "output_type": "stream",
     "text": [
      "['cantelopes', 'donut']\n"
     ]
    }
   ],
   "source": [
    "# 5) Get rid of the non fruit item: \n",
    "\n",
    "# sweets = ['apple', 'bananas', 'cantelopes', 'donut']\n",
    "\n",
    "sweets = ['apple', 'bananas', 'cantelopes', 'donut']\n",
    "sweets.remove('apple')\n",
    "sweets.remove('bananas')\n",
    "print(sweets)\n"
   ]
  },
  {
   "cell_type": "code",
   "execution_count": 2,
   "metadata": {},
   "outputs": [
    {
     "name": "stdout",
     "output_type": "stream",
     "text": [
      "santa\n"
     ]
    }
   ],
   "source": [
    "# 6) Find \"santa\" in the variable \"house\" \n",
    "\n",
    "\n",
    "# room1=['gabe', 'greg']\n",
    "# room2=['michelle','santa','stacey']\n",
    "# room3=['adam','sam', 'melissa']\n",
    "# house= [room2, room1, room3] \n",
    "\n",
    "room1=['gabe', 'greg']\n",
    "room2=['michelle','santa','stacey']\n",
    "room3=['adam','sam', 'melissa']\n",
    "house= [room2, room1, room3] \n",
    "print(house[0][1])"
   ]
  },
  {
   "cell_type": "code",
   "execution_count": null,
   "metadata": {},
   "outputs": [],
   "source": [
    "# 7) A dictionary is the best way to store a sequence of events like a recipe.\n",
    "\n",
    "# True or false? \n",
    " \n",
    "#False, a dictionary does not store data in a sequenced order. \n"
   ]
  },
  {
   "cell_type": "code",
   "execution_count": 3,
   "metadata": {},
   "outputs": [
    {
     "name": "stdout",
     "output_type": "stream",
     "text": [
      "{'tina', 'jennifer', 'mary', 'michelle', 'bob', 'chris', 'christina', 'pierre', 'jessica'}\n"
     ]
    }
   ],
   "source": [
    "# 8) Remove all dupes \n",
    "# names = ['mary', 'bob', 'jessica', 'pierre', 'bob', 'jennifer', 'chris', \n",
    "#          'christina', 'tina', 'mary', 'tina', 'bob', 'michelle','jennifer']\n",
    "\n",
    "names = ['mary', 'bob', 'jessica', 'pierre', 'bob', 'jennifer', 'chris','christina', 'tina', 'mary', 'tina', 'bob', 'michelle','jennifer']\n",
    "a = set(names)\n",
    "print(a)"
   ]
  },
  {
   "cell_type": "code",
   "execution_count": null,
   "metadata": {},
   "outputs": [],
   "source": [
    "# 9) What's the difference between = and == ? \n",
    "\n",
    "# = assigns value while == checks for equivalence; a=3 assigns the value 3 to the variable a, while a==3 returns \n",
    "#a boolean(true or false) value for whether a equals to 3."
   ]
  },
  {
   "cell_type": "code",
   "execution_count": null,
   "metadata": {},
   "outputs": [],
   "source": [
    "# 10) \n",
    "\n",
    "# Use the concepts you learned in class to construct a poem. Please make sure you write your own poem. \n",
    "# There are no guidelines to writing this poem but if you want, feel free to following traditional poem formats \n",
    "#like ballads, sonnets, haikus or more.  \n",
    "\n",
    "# See below for example. I expect yours to have a bit more elegant. \n",
    "\n",
    "# Credit Poem: \"Still I Rise\" by Maya Angelou \n",
    "\n",
    "# Reference: https://www.popwebdesign.net/popart_blog/en/2018/01/code-poetry-poems-written-in-programming-languages/ \n"
   ]
  },
  {
   "cell_type": "code",
   "execution_count": 43,
   "metadata": {},
   "outputs": [
    {
     "name": "stdout",
     "output_type": "stream",
     "text": [
      "Still I Rise\n",
      "\n",
      "\n",
      "BY MAYA ANGELOU\n",
      "\n",
      "\n",
      "With your bitter, twisted lies,\n",
      "You may trod me in the very dirt\n",
      "But still, like dust, I'll rise.\n",
      "\n",
      "\n",
      "Does my sassiness upset you?\n",
      "Why are you beset with gloom?\n",
      "’Cause I walk like I've got oil wells\n",
      "Pumping in my living room.\n",
      "\n",
      "\n",
      "Just like moons and like suns,\n",
      "With the certainty of tides,\n",
      "Just like hopes springing high,\n",
      "Still I'll rise.\n",
      "\n",
      "\n",
      "Did you want to see me broken?\n",
      "Bowed head and lowered eyes?\n",
      "Shoulders falling down like teardrops,\n",
      "Weakened by my soulful cries?\n",
      "\n",
      "\n",
      "Does my haughtiness offend you?\n",
      "Don't you take it awful hard\n",
      "’Cause I laugh like I've got gold mines\n",
      "Diggin’ in my own backyard.\n",
      "\n",
      "\n",
      "You may shoot me with your words,\n",
      "You may cut me with your eyes,\n",
      "You may kill me with your hatefulness,\n",
      "But still, like air, I’ll rise.\n",
      "\n",
      "\n",
      "Does my sexiness upset you?\n",
      "Does it come as a surprise\n",
      "That I dance like I've got diamonds\n",
      "At the meeting of my thighs?\n",
      "\n",
      "\n",
      "Out of the huts of history’s shame\n",
      "I Rise\n",
      "Up from a past that’s rooted in pain\n",
      "I Rise\n",
      "I'm a black ocean, leaping and wide,\n",
      "Welling and swelling I bear in the tide.\n",
      "\n",
      "\n",
      "Leaving behind nights of terror and fear\n",
      "I Rise\n",
      "Into a daybreak that’s wondrously clear\n",
      "I Rise\n",
      "Bringing the gifts that my ancestors gave,\n",
      "I am the dream and the hope of the slave.\n",
      "I Rise\n",
      "I Rise\n",
      "I Rise.\n"
     ]
    }
   ],
   "source": [
    "a = \"I Rise\"\n",
    "b = \"by maya angelou\"\n",
    "\n",
    "print (f'Still {a}')\n",
    "print('\\n')\n",
    "print(b.upper())\n",
    "print('\\n')\n",
    "print('With your bitter, twisted lies,')\n",
    "print('You may trod me in the very dirt')\n",
    "print(\"But still, like dust, I'll rise.\")\n",
    "print('\\n')\n",
    "print('Does my sassiness upset you?')\n",
    "print('Why are you beset with gloom?')\n",
    "print(\"’Cause I walk like I've got oil wells\")\n",
    "print('Pumping in my living room.')\n",
    "print('\\n')\n",
    "print('Just like moons and like suns,')\n",
    "print('With the certainty of tides,')\n",
    "print('Just like hopes springing high,')\n",
    "print(\"Still I'll rise.\")\n",
    "print('\\n')\n",
    "print('Did you want to see me broken?')\n",
    "print('Bowed head and lowered eyes?')\n",
    "print('Shoulders falling down like teardrops,')\n",
    "print('Weakened by my soulful cries?')\n",
    "print('\\n')\n",
    "print('Does my haughtiness offend you?')\n",
    "print(\"Don't you take it awful hard\")\n",
    "print(\"’Cause I laugh like I've got gold mines\")\n",
    "print('Diggin’ in my own backyard.')\n",
    "print('\\n')\n",
    "print('You may shoot me with your words,')\n",
    "print('You may cut me with your eyes,')\n",
    "print('You may kill me with your hatefulness,')\n",
    "print('But still, like air, I’ll rise.')\n",
    "print('\\n')\n",
    "print('Does my sexiness upset you?')\n",
    "print('Does it come as a surprise')\n",
    "print(\"That I dance like I've got diamonds\")\n",
    "print('At the meeting of my thighs?')\n",
    "print('\\n')\n",
    "print('Out of the huts of history’s shame')\n",
    "print (f'{a}')\n",
    "print('Up from a past that’s rooted in pain')\n",
    "print (f'{a}')\n",
    "print(\"I'm a black ocean, leaping and wide,\")\n",
    "print('Welling and swelling I bear in the tide.')\n",
    "print('\\n')\n",
    "print('Leaving behind nights of terror and fear')\n",
    "print (f'{a}')\n",
    "print('Into a daybreak that’s wondrously clear')\n",
    "print (f'{a}')\n",
    "print('Bringing the gifts that my ancestors gave,')\n",
    "print('I am the dream and the hope of the slave.')\n",
    "print (f'{a}')\n",
    "print (f'{a}')\n",
    "print (f'{a}.')\n"
   ]
  },
  {
   "cell_type": "code",
   "execution_count": 1,
   "metadata": {},
   "outputs": [
    {
     "name": "stdout",
     "output_type": "stream",
     "text": [
      "\n",
      "\n",
      "TOMATO\n",
      "By a cold Tomato\n",
      "\n",
      "\n",
      "* 🍅 * 🍅 * 🍅 * 🍅 * 🍅 * 🍅 * 🍅 * 🍅 * 🍅 * 🍅 \n",
      "\n",
      "\n",
      "To be a tomato, sometimes red or green\n",
      "But never blue or white\n",
      "Unless painted\n",
      "But who would?\n",
      "Maybe I should\n",
      "\n",
      "\n",
      "\n",
      "To be a tomato, sometimes soft with strong skin\n",
      "But never hard with a thin peel\n",
      "Unless frozen\n",
      "But who would?\n",
      "Maybe I should\n",
      "\n",
      "\n",
      "\n",
      "To be a tomato, sometimes on a plant\n",
      "But never on a hanger\n",
      "Unless hung\n",
      "But who would?\n",
      "Maybe I should\n",
      "\n",
      "\n",
      "\n",
      "To be a tomato, sometimes unloved\n",
      "But never with potatoes\n",
      "Unless burnt\n",
      "But who would?\n",
      "Maybe I should\n",
      "\n",
      "\n",
      "\n",
      "To be a tomato,\n",
      "painted,\n",
      "frozen,\n",
      "hung,\n",
      "burnt,\n",
      "By a cold Tomato\n",
      "Sometimes a Potato\n"
     ]
    }
   ],
   "source": [
    "t = 'tomato'\n",
    "s = 'sometimes'\n",
    "n = 'never'\n",
    "tba = 'To be a'\n",
    "b = 'but'\n",
    "m = 'maybe'\n",
    "u = 'unless'\n",
    "w = 'would'\n",
    "w_n = w.replace('w','sh') #changing would to should\n",
    "emoji = '* 🍅 '\n",
    "brk = '\\n'\n",
    "do = { 1 :['red or green','blue or white','painted'], 2 : ['soft with strong skin','hard with a thin peel','frozen'], 3: ['on a plant','on a hanger','hung'], 4 : ['unloved','with potatoes','burnt'] }\n",
    "#^^ a dictionary with all the different phrases in each stanza\n",
    "no = [1,2,3,4] #a list for the loop to run through with the order of the dictionary keys\n",
    "t_to_p = {84: 80, 109:116} #to change tomato to potato\n",
    "print(brk)\n",
    "print(t.upper())\n",
    "print(f'By a cold {t.capitalize()}')\n",
    "print(brk)\n",
    "print(emoji*10)\n",
    "print(brk)\n",
    "for x in no:\n",
    "    print(f'{tba} {t}, {s} {do[x][0]}')\n",
    "    print(f'{b.capitalize()} {n} {do[x][1]}')\n",
    "    print(f'{u.capitalize()} {do[x][2]}')\n",
    "    print(f'{b.capitalize()} who {w}?')\n",
    "    print(f'{m.capitalize()} I {w_n}')\n",
    "    print(brk*2)\n",
    "print(f'{tba} {t},')\n",
    "for x in no:\n",
    "    print(f'{do[x][2]},')\n",
    "print(f'By a cold {t.capitalize()}')\n",
    "print(f'{s.capitalize()} a {(t.capitalize()).translate(t_to_p)}')"
   ]
  }
 ],
 "metadata": {
  "kernelspec": {
   "display_name": "Python 3 (ipykernel)",
   "language": "python",
   "name": "python3"
  },
  "language_info": {
   "codemirror_mode": {
    "name": "ipython",
    "version": 3
   },
   "file_extension": ".py",
   "mimetype": "text/x-python",
   "name": "python",
   "nbconvert_exporter": "python",
   "pygments_lexer": "ipython3",
   "version": "3.9.13"
  }
 },
 "nbformat": 4,
 "nbformat_minor": 2
}
